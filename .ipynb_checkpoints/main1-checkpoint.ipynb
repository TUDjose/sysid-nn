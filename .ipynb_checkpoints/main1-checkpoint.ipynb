{
 "cells": [
  {
   "cell_type": "markdown",
   "id": "6f533758fbe3e5d1",
   "metadata": {},
   "source": [
    "# AE4320 Assigment: Neural Networks\n",
    "## Part 1: State & Parameter estimation with F-16 flight data\n",
    "Author: José Cunha (5216087)"
   ]
  },
  {
   "cell_type": "code",
   "execution_count": 1,
   "id": "94ea43d6b9a7ff62",
   "metadata": {
    "ExecuteTime": {
     "end_time": "2024-05-09T20:55:46.508817Z",
     "start_time": "2024-05-09T20:55:44.879081Z"
    }
   },
   "source": [
    "import numpy as np\n",
    "from read_data import train_data, treat_data, validation_data, plot_Cm_glitch\n",
    "from kalman import KalmanFilter\n",
    "from least_squares import LeastSquares"
   ],
   "outputs": []
  },
  {
   "cell_type": "code",
   "execution_count": 2,
   "id": "efc093e83f8f29f8",
   "metadata": {
    "ExecuteTime": {
     "end_time": "2024-05-09T20:55:46.525155Z",
     "start_time": "2024-05-09T20:55:46.508817Z"
    }
   },
   "source": [
    "data = train_data()  # load training data\n",
    "Yval, aval, bval = validation_data()  # load special validation data\n",
    "Xval = np.vstack((aval, bval)).T"
   ],
   "outputs": []
  },
  {
   "cell_type": "markdown",
   "id": "7b753cf98c8b34a8",
   "metadata": {},
   "source": [
    "Apply Kalman Filter. For further details into the implementation, please check `kalman.py`"
   ]
  },
  {
   "cell_type": "code",
   "execution_count": 3,
   "id": "48e64dad0275cb0b",
   "metadata": {
    "ExecuteTime": {
     "end_time": "2024-05-09T20:55:55.453002Z",
     "start_time": "2024-05-09T20:55:46.525829Z"
    }
   },
   "source": [
    "KF = KalmanFilter(data=data, n_states=4)  # initialize object\n",
    "KF.prove_convergence()  # check rank of observability matrix\n",
    "KF.IEKF()  # perform Iterative Extended Kalman Filter\n",
    "KF.plot(show=True)  # plot results"
   ],
   "outputs": []
  },
  {
   "cell_type": "markdown",
   "id": "fb11d4f6-91d3-43ec-8c91-669fe7615fbc",
   "metadata": {},
   "source": [
    "Show outliers/glitches in $C_m$ measurements, and treat the data to remove these outliers."
   ]
  },
  {
   "cell_type": "code",
   "execution_count": 4,
   "id": "c12e53583a0f7049",
   "metadata": {
    "ExecuteTime": {
     "end_time": "2024-05-09T20:55:55.485393Z",
     "start_time": "2024-05-09T20:55:55.453002Z"
    }
   },
   "source": [
    "ols_data = np.loadtxt('data/output.csv', delimiter=',')  # load full reconstructed data\n",
    "Y, X = ols_data[:, 0], ols_data[:, 1:]\n",
    "plot_Cm_glitch(Y) # plot Cm data to show the outliers\n",
    "Ytreat, Xtreat = treat_data((Y, X)) # remove glitched data\n",
    "\n",
    "order = 6   # polynomial order"
   ],
   "outputs": []
  },
  {
   "cell_type": "markdown",
   "id": "c0001f0a62df5f01",
   "metadata": {},
   "source": [
    "Apply Least Squares Estimation. For further details into the implementation, please check `least_squares.py`"
   ]
  },
  {
   "cell_type": "markdown",
   "id": "f19bb8d28d2807fc",
   "metadata": {},
   "source": [
    "First see the influence of the sensor glitch on the estimation"
   ]
  },
  {
   "cell_type": "code",
   "execution_count": 5,
   "id": "2565925e89cce937",
   "metadata": {
    "ExecuteTime": {
     "end_time": "2024-05-09T20:55:56.264356Z",
     "start_time": "2024-05-09T20:55:55.485393Z"
    }
   },
   "source": [
    "LS_glitched = LeastSquares(data=(Y, X), order=order)  # initialize object\n",
    "yhat_glitched = LS_glitched.OLS()\n",
    "\n",
    "LeastSquares.plot_regression(LS_glitched.Xtrain, LS_glitched.Ytrain, yhat_glitched, lims=(-0.2, 0.8))"
   ],
   "outputs": []
  },
  {
   "cell_type": "markdown",
   "id": "289fd9a61c2f35c1",
   "metadata": {},
   "source": [
    "Remove glitched data and re-estimate the parameters. This is done for the three different sets of data: training, validation and special validation sets."
   ]
  },
  {
   "cell_type": "code",
   "execution_count": 6,
   "id": "6de41c4614a6f4ae",
   "metadata": {
    "ExecuteTime": {
     "end_time": "2024-05-09T20:55:57.870799Z",
     "start_time": "2024-05-09T20:55:56.265172Z"
    }
   },
   "source": [
    "LS = LeastSquares(data=(Ytreat, Xtreat), order=order)  # initialize object\n",
    "yhat_train = LS.OLS()\n",
    "yhat_val = LS.OLS_predict_on_val_data()\n",
    "yhat_special = LS.OLS_predict_on_val_data(x=Xval)\n",
    "\n",
    "# plot OLS results\n",
    "LeastSquares.plot_regression(LS.Xtrain, LS.Ytrain, yhat_train, lims=(-0.12, 0), title='OLS on Training data')\n",
    "LeastSquares.plot_regression(LS.Xval, LS.Yval, yhat_val, lims=(-0.12, 0), title='OLS on Validation data')"
   ],
   "outputs": []
  },
  {
   "cell_type": "markdown",
   "id": "d6bbb542d3b63ead",
   "metadata": {},
   "source": [
    "Show the influence of the polynomial model order on the accuracy of fit."
   ]
  },
  {
   "cell_type": "code",
   "execution_count": 7,
   "id": "2881a18e1d257a99",
   "metadata": {
    "ExecuteTime": {
     "end_time": "2024-05-09T20:56:06.100775Z",
     "start_time": "2024-05-09T20:55:59.911022Z"
    }
   },
   "source": [
    "LeastSquares.order_influence(data=(Ytreat, Xtreat), validation_set=(Yval, Xval))"
   ],
   "outputs": []
  },
  {
   "cell_type": "markdown",
   "id": "11eae65bc03d5c67",
   "metadata": {},
   "source": [
    "Perform statistical validation of the model by looking at variance of OLS parameters"
   ]
  },
  {
   "cell_type": "code",
   "execution_count": 8,
   "id": "96448480e2adb385",
   "metadata": {
    "ExecuteTime": {
     "end_time": "2024-05-09T20:56:11.731053Z",
     "start_time": "2024-05-09T20:56:09.212150Z"
    }
   },
   "source": [
    "LS.statistical_validation(yhat_val)"
   ],
   "outputs": []
  },
  {
   "cell_type": "markdown",
   "id": "72da21c944b8bbb1",
   "metadata": {},
   "source": [
    "Perform model-error-based validation of the model by looking at autocorrelation function of residuals"
   ]
  },
  {
   "cell_type": "code",
   "execution_count": 9,
   "id": "b70d0b149d0d1fb",
   "metadata": {
    "ExecuteTime": {
     "end_time": "2024-05-09T20:56:34.935186Z",
     "start_time": "2024-05-09T20:56:33.104554Z"
    }
   },
   "source": [
    "LS.residual_validation(yhat_val)"
   ],
   "outputs": []
  },
  {
   "cell_type": "markdown",
   "id": "61d44f46-8314-4dd4-9bfa-904791e6a7c5",
   "metadata": {},
   "source": [
    "Show results of 'best' polynomial model with the special validation dataset, and the respective residual RMS"
   ]
  },
  {
   "cell_type": "code",
   "execution_count": 10,
   "id": "5e241b3a-ce99-42eb-957d-5fce88f22109",
   "metadata": {},
   "source": [
    "LeastSquares.plot_regression(Xval, Yval, yhat_special, lims=(-0.12, 0), title='OLS on special validation data')\n",
    "LS.residual_RMS(Yval, yhat_special)"
   ],
   "outputs": []
  }
 ],
 "metadata": {
  "kernelspec": {
   "display_name": "Python 3 (ipykernel)",
   "language": "python",
   "name": "python3"
  },
  "language_info": {
   "codemirror_mode": {
    "name": "ipython",
    "version": 3
   },
   "file_extension": ".py",
   "mimetype": "text/x-python",
   "name": "python",
   "nbconvert_exporter": "python",
   "pygments_lexer": "ipython3",
   "version": "3.10.13"
  }
 },
 "nbformat": 4,
 "nbformat_minor": 5
}
