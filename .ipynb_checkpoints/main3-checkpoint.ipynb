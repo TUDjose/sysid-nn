{
 "cells": [
  {
   "cell_type": "markdown",
   "id": "93be62e0c066397b",
   "metadata": {},
   "source": [
    "# AE4320 Assigment: Neural Networks\n",
    "## Part 3: Feed-Forward Neural Network Model\n",
    "Author: José Cunha (5216087)"
   ]
  },
  {
   "cell_type": "code",
   "execution_count": 1,
   "id": "2ef927759cf201d3",
   "metadata": {
    "ExecuteTime": {
     "end_time": "2024-05-13T18:07:42.137845Z",
     "start_time": "2024-05-13T18:07:39.938943Z"
    }
   },
   "source": [
    "import pickle\n",
    "import numpy as np\n",
    "from read_data import treat_data\n",
    "import matplotlib.pyplot as plt\n",
    "from fnn import FNN, Net, Linear"
   ],
   "outputs": []
  },
  {
   "cell_type": "code",
   "execution_count": 2,
   "id": "1f57b9a9b3b08489",
   "metadata": {
    "ExecuteTime": {
     "end_time": "2024-05-13T18:07:45.369581Z",
     "start_time": "2024-05-13T18:07:45.338873Z"
    }
   },
   "source": [
    "ols_data = np.loadtxt('data/output.csv', delimiter=',')  # load full reconstructed data\n",
    "Y, X = ols_data[:, 0], ols_data[:, 1:]\n",
    "Y, X = treat_data((Y, X))  # treat reconstructed data to remove outliers"
   ],
   "outputs": []
  },
  {
   "cell_type": "markdown",
   "id": "43af5f2c327830a3",
   "metadata": {},
   "source": [
    "Train feed-forward neural network model with a backpropagation algorithm and an Adam optimizer."
   ]
  },
  {
   "cell_type": "code",
   "execution_count": 3,
   "id": "b2a165799f7d731",
   "metadata": {
    "ExecuteTime": {
     "end_time": "2024-05-13T18:08:34.637758Z",
     "start_time": "2024-05-13T18:08:17.708014Z"
    }
   },
   "source": [
    "fnn = FNN(X, Y, 12, ..., 0.1, 2e-5, optimizer='adam', save=False, input_dim=3)  # initialize the FNN\n",
    "fnn.train_adam()  # train with gradient descent method -> Adam\n",
    "fnn.plot_fnn('', fnn)  # plot model"
   ],
   "outputs": []
  },
  {
   "cell_type": "markdown",
   "id": "be48c1aa2a4e6436",
   "metadata": {},
   "source": [
    "Test for sensitivity in initial conditions for the backpropagation/Adam algorithm."
   ]
  },
  {
   "cell_type": "code",
   "execution_count": 4,
   "id": "c6d628399a32193",
   "metadata": {},
   "source": [
    "FNN.check_init_conditions(X, Y, 'adam', plot=True)"
   ],
   "outputs": []
  },
  {
   "cell_type": "markdown",
   "id": "3f0eadc3-f4d4-439f-93cc-3f24b3fe7c4c",
   "metadata": {},
   "source": [
    "Demonstrate the influence of learning rate on the convergence of the network (for the Adam optimizer)"
   ]
  },
  {
   "cell_type": "code",
   "execution_count": 5,
   "id": "50bc9ec8-566d-413c-acdd-b3343f7b621b",
   "metadata": {},
   "source": [
    "FNN.lr_influence(X, Y, plot=True)"
   ],
   "outputs": []
  },
  {
   "cell_type": "markdown",
   "id": "31964b19-8955-4d9b-bea3-72d190ca4874",
   "metadata": {},
   "source": [
    "Optimize the network in terms of number of hidden neurons by trading off model accuracy and complexity."
   ]
  },
  {
   "cell_type": "code",
   "execution_count": 6,
   "id": "caa4a957-5ce4-42b7-8ba8-ee0339b010ca",
   "metadata": {},
   "source": [
    "FNN.hd_influence(X, Y, plot=True)"
   ],
   "outputs": []
  },
  {
   "cell_type": "markdown",
   "id": "7d0e004f-ab47-4348-97a5-dcc920ddbf6c",
   "metadata": {},
   "source": [
    "Train feed-forward neural network model with a Levenberg-Marquardt  learning algorithm."
   ]
  },
  {
   "cell_type": "code",
   "execution_count": 7,
   "id": "6cd8c061-f371-4f51-8876-99d97d34b176",
   "metadata": {},
   "source": [
    "fnn = FNN(X=X, Y=Y, hidden_dim=30, epochs=1000, mu=0.01, goal=0.2, optimizer='LM', retry=True)  # initialize the FNN\n",
    "fnn.train_lm() # train with LMA\n",
    "FNN.plot_fnn('data/fnn_LM_30.pkl')  # plot the model"
   ],
   "outputs": []
  },
  {
   "cell_type": "markdown",
   "id": "a100c0a7-a4e3-47b9-bb98-ea184db4aa6a",
   "metadata": {},
   "source": [
    "Test for sensitivity in initial conditions for the Levenberg-Marquardt algorithm"
   ]
  },
  {
   "cell_type": "code",
   "execution_count": 8,
   "id": "c1f0af9c-25fe-4afa-918d-776cc527e9f9",
   "metadata": {},
   "source": [
    "FNN.check_init_conditions(X, Y, 'LM', plot=True)"
   ],
   "outputs": []
  },
  {
   "cell_type": "markdown",
   "id": "e6f2a01e-836b-4281-8ec5-75c48e43952c",
   "metadata": {},
   "source": [
    "Compare the training of an FNN for the two different algorithms: Adam and LMA (both with the same number of hidden neurons)."
   ]
  },
  {
   "cell_type": "code",
   "execution_count": 9,
   "id": "89e271ad-3cf9-4b26-a262-c5c82a2e4136",
   "metadata": {},
   "source": [
    "FNN.compare_lm_adam()"
   ],
   "outputs": []
  },
  {
   "cell_type": "markdown",
   "id": "0c9355cf-2dc6-4d03-9707-edb9b2d226b6",
   "metadata": {},
   "source": [
    "Calculate the FNN model outputs for the special validation dataset and provide its residual RMS"
   ]
  },
  {
   "cell_type": "code",
   "execution_count": 10,
   "id": "b4fedb38-f1b3-47ac-9a0f-1f5a85679103",
   "metadata": {
    "ExecuteTime": {
     "end_time": "2024-05-16T21:49:25.381291Z",
     "start_time": "2024-05-16T21:49:24.990520Z"
    }
   },
   "source": [
    "FNN.plot_special()"
   ],
   "outputs": []
  }
 ],
 "metadata": {
  "kernelspec": {
   "display_name": "Python 3 (ipykernel)",
   "language": "python",
   "name": "python3"
  },
  "language_info": {
   "codemirror_mode": {
    "name": "ipython",
    "version": 3
   },
   "file_extension": ".py",
   "mimetype": "text/x-python",
   "name": "python",
   "nbconvert_exporter": "python",
   "pygments_lexer": "ipython3",
   "version": "3.10.13"
  }
 },
 "nbformat": 4,
 "nbformat_minor": 5
}
