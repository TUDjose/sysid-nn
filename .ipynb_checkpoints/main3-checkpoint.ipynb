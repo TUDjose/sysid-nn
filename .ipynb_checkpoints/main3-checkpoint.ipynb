{
 "cells": [
  {
   "cell_type": "markdown",
   "id": "93be62e0c066397b",
   "metadata": {},
   "source": [
    "# AE4320 Assigment: Neural Networks\n",
    "## Part 3: Feed-Forward Neural Network Model\n",
    "Author: José Cunha (5216087)"
   ]
  },
  {
   "cell_type": "code",
   "execution_count": 10,
   "id": "2ef927759cf201d3",
   "metadata": {
    "ExecuteTime": {
     "end_time": "2024-05-13T18:07:42.137845Z",
     "start_time": "2024-05-13T18:07:39.938943Z"
    }
   },
   "source": [
    "import pickle\n",
    "import numpy as np\n",
    "from read_data import treat_data\n",
    "import matplotlib.pyplot as plt\n",
    "from fnn import FNN, Net, Linear"
   ],
   "outputs": []
  },
  {
   "cell_type": "code",
   "execution_count": 11,
   "id": "1f57b9a9b3b08489",
   "metadata": {
    "ExecuteTime": {
     "end_time": "2024-05-13T18:07:45.369581Z",
     "start_time": "2024-05-13T18:07:45.338873Z"
    }
   },
   "source": [
    "ols_data = np.loadtxt('data/output.csv', delimiter=',')  # load full reconstructed data\n",
    "Y, X = ols_data[:, 0], ols_data[:, 1:]\n",
    "Y, X = treat_data((Y, X))  # treat reconstructed data to remove outliers"
   ],
   "outputs": []
  },
  {
   "cell_type": "markdown",
   "id": "43af5f2c327830a3",
   "metadata": {},
   "source": [
    "Train feed-forward neural network model with a backpropagation algorithm and an Adam optimizer."
   ]
  },
  {
   "cell_type": "code",
   "execution_count": 4,
   "id": "b2a165799f7d731",
   "metadata": {
    "ExecuteTime": {
     "end_time": "2024-05-13T18:08:34.637758Z",
     "start_time": "2024-05-13T18:08:17.708014Z"
    }
   },
   "source": [
    "fnn = FNN(X, Y, 12, ..., 0.1, 2e-5, optimizer='adam', save=False, input_dim=3)\n",
    "fnn.train_adam()\n",
    "fnn.plot_fnn('', fnn)"
   ],
   "outputs": []
  },
  {
   "cell_type": "markdown",
   "id": "be48c1aa2a4e6436",
   "metadata": {},
   "source": [
    "Test for sensitivity in initial conditions for the backpropagation/Adam algorithm."
   ]
  },
  {
   "cell_type": "code",
   "execution_count": 3,
   "id": "c6d628399a32193",
   "metadata": {},
   "source": [
    "FNN.check_init_conditions(X, Y, 'adam', plot=True)"
   ],
   "outputs": []
  },
  {
   "cell_type": "markdown",
   "id": "3f0eadc3-f4d4-439f-93cc-3f24b3fe7c4c",
   "metadata": {},
   "source": [
    "Demonstrate the influence of learning rate on the convergence of the network (for the Adam optimizer)"
   ]
  },
  {
   "cell_type": "code",
   "execution_count": 3,
   "id": "50bc9ec8-566d-413c-acdd-b3343f7b621b",
   "metadata": {},
   "source": [
    "FNN.lr_influence(X, Y, plot=True)"
   ],
   "outputs": []
  },
  {
   "cell_type": "markdown",
   "id": "31964b19-8955-4d9b-bea3-72d190ca4874",
   "metadata": {},
   "source": [
    "Optimize the network in terms of number of hidden neurons by trading off model accuracy and complexity."
   ]
  },
  {
   "cell_type": "code",
   "execution_count": 12,
   "id": "caa4a957-5ce4-42b7-8ba8-ee0339b010ca",
   "metadata": {},
   "source": [
    "FNN.hd_influence(X, Y, plot=True, best=pickle.load(open('data/test/adam_12', 'rb')))"
   ],
   "outputs": []
  },
  {
   "cell_type": "markdown",
   "id": "7d0e004f-ab47-4348-97a5-dcc920ddbf6c",
   "metadata": {},
   "source": [
    "Train feed-forward neural network model with a Levenberg-Marquardt  learning algorithm."
   ]
  },
  {
   "cell_type": "code",
   "execution_count": 4,
   "id": "6cd8c061-f371-4f51-8876-99d97d34b176",
   "metadata": {},
   "source": [
    "fnn = FNN(X=X, Y=Y, hidden_dim=30, epochs=10000, mu=0.01, goal=0.18, optimizer='LM', retry=True)\n",
    "fnn.train_lm()\n",
    "FNN.plot_fnn('data/fnn_LM_30.pkl')"
   ],
   "outputs": []
  },
  {
   "cell_type": "code",
   "execution_count": 4,
   "id": "c1f0af9c-25fe-4afa-918d-776cc527e9f9",
   "metadata": {},
   "source": [
    "FNN.check_init_conditions(X, Y, 'LM', plot=True)"
   ],
   "outputs": []
  },
  {
   "cell_type": "code",
   "execution_count": 5,
   "id": "89e271ad-3cf9-4b26-a262-c5c82a2e4136",
   "metadata": {},
   "source": [
    "FNN.compare_adam_lm('data/fnn_LM_30.pkl', 'data/fnn_adam_30.pkl')"
   ],
   "outputs": []
  },
  {
   "cell_type": "code",
   "execution_count": 3,
   "id": "d9ec576e-5946-4477-aa68-2f7313d5486a",
   "metadata": {},
   "source": [
    "FNN.lr_influence(X, Y, plot=True)"
   ],
   "outputs": []
  },
  {
   "cell_type": "code",
   "execution_count": 3,
   "id": "413a1531-39bb-4a6a-beb2-3a6d52625fb0",
   "metadata": {},
   "source": [
    "FNN.hd_influence(X, Y, plot=True)"
   ],
   "outputs": []
  },
  {
   "cell_type": "code",
   "execution_count": null,
   "id": "a21e5670-1f10-4b2a-a216-6c3eec8d9365",
   "metadata": {},
   "source": [],
   "outputs": []
  }
 ],
 "metadata": {
  "kernelspec": {
   "display_name": "Python 3 (ipykernel)",
   "language": "python",
   "name": "python3"
  },
  "language_info": {
   "codemirror_mode": {
    "name": "ipython",
    "version": 3
   },
   "file_extension": ".py",
   "mimetype": "text/x-python",
   "name": "python",
   "nbconvert_exporter": "python",
   "pygments_lexer": "ipython3",
   "version": "3.10.13"
  }
 },
 "nbformat": 4,
 "nbformat_minor": 5
}
