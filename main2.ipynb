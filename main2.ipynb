{
 "cells": [
  {
   "metadata": {},
   "cell_type": "markdown",
   "source": [
    "# AE4320 Assigment: Neural Networks\n",
    "## Part 3: Radial Basis Function Neural Network Model\n",
    "Author: José Cunha (5216087)"
   ],
   "id": "e6b50799f82edcce"
  },
  {
   "metadata": {},
   "cell_type": "code",
   "outputs": [],
   "execution_count": null,
   "source": [
    "import torch\n",
    "import numpy as np\n",
    "from read_data import treat_data\n",
    "import matplotlib.pyplot as plt\n",
    "from scipy.spatial import Delaunay\n",
    "from rbf import train_lin_regress, train_lm\n",
    "torch.random.manual_seed(1)"
   ],
   "id": "f0e0539a314d362b"
  },
  {
   "metadata": {},
   "cell_type": "code",
   "outputs": [],
   "execution_count": null,
   "source": [
    "# load data\n",
    "ols_data = np.loadtxt('data/output.csv', delimiter=',')  # load full reconstructed data\n",
    "Y, X = ols_data[:, 0], ols_data[:, 1:]\n",
    "Y, X = treat_data((Y, X))"
   ],
   "id": "b1d4a84e55fa2c3c"
  },
  {
   "metadata": {},
   "cell_type": "markdown",
   "source": "Train radial basis function neural network using a linear regression approach",
   "id": "dfee0c89be8b1c59"
  },
  {
   "metadata": {},
   "cell_type": "code",
   "outputs": [],
   "execution_count": null,
   "source": [
    "predictions, test_data = train_lin_regress(X, Y, 15)\n",
    "\n",
    "plt.figure(figsize=(12, 3))\n",
    "plt.plot(Y, label='True')\n",
    "plt.plot(predictions, label='Predicted')\n",
    "plt.legend()\n",
    "plt.show()\n",
    "\n",
    "fig = plt.figure()\n",
    "ax = fig.add_subplot(111, projection='3d')\n",
    "ax.plot(test_data[:, 0], test_data[:, 1], predictions.detach().numpy().ravel(), c='r', lw=1.3, label='FNN')\n",
    "ax.plot(test_data[:, 0], test_data[:, 1], Y.ravel(), c='k', lw=1.3, label='Measured', alpha=0.5)\n",
    "ax.set_xlabel(r'$\\alpha$ [rad]')\n",
    "ax.set_ylabel(r'$\\beta$ [rad]')\n",
    "ax.set_zlabel(r'$C_m$ [-]')\n",
    "ax.set_zlim(-0.2, 0)\n",
    "plt.legend()\n",
    "plt.tight_layout()\n",
    "plt.savefig('plots/fnn.png', dpi=300)\n",
    "plt.show()"
   ],
   "id": "ecca11cd4b331539"
  },
  {
   "metadata": {},
   "cell_type": "markdown",
   "source": "Train radial basis function neural network using a Levenberg-Marquardt approach",
   "id": "ada0fc38b3b9285d"
  },
  {
   "metadata": {},
   "cell_type": "code",
   "outputs": [],
   "execution_count": null,
   "source": [
    "predictions, losses, test_data = train_lm(X, Y, 2000, 0.002, 15)\n",
    "\n",
    "plt.semilogy(losses)\n",
    "plt.show()\n",
    "\n",
    "plt.figure(figsize=(12, 3))\n",
    "plt.plot(Y, label='True')\n",
    "plt.plot(predictions, label='Predictions')\n",
    "plt.legend()\n",
    "plt.show()\n",
    "\n",
    "# tri = Delaunay(test_data[:, :2])\n",
    "fig = plt.figure()\n",
    "ax = fig.add_subplot(111, projection='3d')\n",
    "ax.plot(test_data[:, 0], test_data[:, 1], Y, c='r', lw=1.3)\n",
    "ax.plot(test_data[:, 0], test_data[:, 1], predictions.reshape(-1), c='b', lw=1.3)\n",
    "# ax.plot_trisurf(test_data[:, 0], test_data[:, 1], predictions.reshape(-1), triangles=tri.simplices)\n",
    "ax.set_zlim(-0.12, 0)\n",
    "plt.show()"
   ],
   "id": "91b881d313a7d47f"
  }
 ],
 "metadata": {
  "kernelspec": {
   "display_name": "Python 3",
   "language": "python",
   "name": "python3"
  },
  "language_info": {
   "codemirror_mode": {
    "name": "ipython",
    "version": 2
   },
   "file_extension": ".py",
   "mimetype": "text/x-python",
   "name": "python",
   "nbconvert_exporter": "python",
   "pygments_lexer": "ipython2",
   "version": "2.7.6"
  }
 },
 "nbformat": 4,
 "nbformat_minor": 5
}
