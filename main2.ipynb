{
 "cells": [
  {
   "cell_type": "markdown",
   "id": "e6b50799f82edcce",
   "metadata": {},
   "source": [
    "# AE4320 Assigment: Neural Networks\n",
    "## Part 3: Radial Basis Function Neural Network Model\n",
    "Author: José Cunha (5216087)"
   ]
  },
  {
   "cell_type": "code",
   "execution_count": 1,
   "id": "f0e0539a314d362b",
   "metadata": {},
   "source": [
    "import torch\n",
    "import numpy as np\n",
    "import pickle\n",
    "\n",
    "from read_data import treat_data\n",
    "from rbf import RBFNet\n",
    "from rbf_lm import RBFNet as RBFLM"
   ],
   "outputs": []
  },
  {
   "cell_type": "code",
   "execution_count": 2,
   "id": "b1d4a84e55fa2c3c",
   "metadata": {},
   "source": [
    "ols_data = np.loadtxt('data/output.csv', delimiter=',')  # load full reconstructed data\n",
    "Y, X = ols_data[:, 0], ols_data[:, 1:]  # Y = Cm,  X = [alpha, beta, V]\n",
    "Y, X = treat_data((Y, X))  # treat data by removing outliers"
   ],
   "outputs": []
  },
  {
   "cell_type": "markdown",
   "id": "7a154d44-4e8b-4c83-a2ce-c0895f09c06a",
   "metadata": {},
   "source": [
    "Use Kmeans clustering to find the RBF centers, for the linear regression approach (e.g. 15 RBFs)"
   ]
  },
  {
   "cell_type": "code",
   "execution_count": 3,
   "id": "2f9360e0-1ca4-4e97-961f-546f72f3cb93",
   "metadata": {},
   "source": [
    "net = RBFNet(X, Y, 15, 1)\n",
    "_ = net.get_centers(net.X_train_tensor, plot=True) # get RBF centers"
   ],
   "outputs": []
  },
  {
   "cell_type": "markdown",
   "id": "dfee0c89be8b1c59",
   "metadata": {},
   "source": [
    "Train radial basis function neural network using a linear regression approach"
   ]
  },
  {
   "cell_type": "code",
   "execution_count": 4,
   "id": "daceb90d-03f3-47c7-9d4d-da4d4b7b474b",
   "metadata": {},
   "source": [
    "rbf = RBFNet(X, Y, 50, 2.05)  # initialize object\n",
    "rbf.train_lin_reg()  # 'train' the RBF network\n",
    "rbf.plot_lin_reg()  # plot results"
   ],
   "outputs": []
  },
  {
   "cell_type": "markdown",
   "id": "9f033347-5494-4613-a467-e94ed8a4adde",
   "metadata": {},
   "source": [
    "Optimize the linear regression RBFNet by tuning the RBF amplitude parameter"
   ]
  },
  {
   "cell_type": "code",
   "execution_count": 5,
   "id": "91b881d313a7d47f",
   "metadata": {},
   "source": [
    "RBFNet.optimize_lin_reg(X, Y)"
   ],
   "outputs": []
  },
  {
   "cell_type": "markdown",
   "id": "e9d7fdc0-4023-496f-b706-238e3cc87105",
   "metadata": {},
   "source": [
    "Train the RBF neural network using the Levenberg-Marquardt learning algorithm"
   ]
  },
  {
   "cell_type": "code",
   "execution_count": 6,
   "id": "01ba0e14-8b2c-4194-9caf-cf120a2b4922",
   "metadata": {},
   "source": [
    "# initialize network with 30 RBFs and full inputs for training\n",
    "rbf = RBFLM(X, Y, 30, 500, 0.01, 0.3, retry=True, filename='data/rbf_lm_testing.pkl', input_dim=3)\n",
    "rbf.train_lm()  # train RBF network with Levenberg-Marquardt learning algorithm\n",
    "net = pickle.load(open('data/rbf_lm_testing.pkl', 'rb')) # load in the stored network\n",
    "net.show_mu_dynamics() # plot the changes in damping  factor  during training\n",
    "RBFLM.plot_lm('', net) # plot the output estimate of the network"
   ],
   "outputs": []
  },
  {
   "cell_type": "markdown",
   "id": "b8144e3c-c85d-4009-94f5-8125a4399f2d",
   "metadata": {},
   "source": [
    "Demonstrate influence of damping factor on network convergence"
   ]
  },
  {
   "cell_type": "code",
   "execution_count": 7,
   "id": "9c725344-18ab-4437-96d2-c9555adb8130",
   "metadata": {},
   "source": [
    "RBFLM.damping_effect(X, Y, plot=True)"
   ],
   "outputs": []
  },
  {
   "cell_type": "markdown",
   "id": "cabf1c5d-af27-47df-9dfa-e2c36b0db356",
   "metadata": {},
   "source": [
    "Demonstrate the sensitivity to initial conditions of the RBF network trained on the LMA"
   ]
  },
  {
   "cell_type": "code",
   "execution_count": null,
   "id": "21e98fee-f367-4460-b57d-3524a2498589",
   "metadata": {},
   "source": [
    "# TBD"
   ],
   "outputs": []
  },
  {
   "cell_type": "markdown",
   "id": "a29cf5be-e6da-49d6-b009-56ce8ad46867",
   "metadata": {},
   "source": [
    "Optimize the number of hidden neurons in the RBF network to get the best tradeoff between model accuracy and complexity"
   ]
  },
  {
   "cell_type": "code",
   "execution_count": 8,
   "id": "149ce40c-4cad-43e6-bd25-4141cd0c941d",
   "metadata": {},
   "source": [
    "RBFLM.optimize_structure(X, Y, plot=True)"
   ],
   "outputs": []
  },
  {
   "cell_type": "markdown",
   "id": "d8a6715a-f14f-4c44-90ea-cc7bb56837bb",
   "metadata": {},
   "source": [
    "Show the results of the network when the input is the special validation set, and show the residual RMS."
   ]
  },
  {
   "cell_type": "code",
   "execution_count": null,
   "id": "3fb0e254-f691-4840-a04d-b465699d5425",
   "metadata": {},
   "source": [
    "# TBD"
   ],
   "outputs": []
  }
 ],
 "metadata": {
  "kernelspec": {
   "display_name": "Python 3 (ipykernel)",
   "language": "python",
   "name": "python3"
  },
  "language_info": {
   "codemirror_mode": {
    "name": "ipython",
    "version": 3
   },
   "file_extension": ".py",
   "mimetype": "text/x-python",
   "name": "python",
   "nbconvert_exporter": "python",
   "pygments_lexer": "ipython3",
   "version": "3.10.13"
  }
 },
 "nbformat": 4,
 "nbformat_minor": 5
}
