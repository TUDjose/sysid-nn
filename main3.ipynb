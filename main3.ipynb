{
 "cells": [
  {
   "metadata": {},
   "cell_type": "markdown",
   "source": [
    "# AE4320 Assigment: Neural Networks\n",
    "## Part 3: Feed-Forward Neural Network model\n",
    "Author: José Cunha (5216087)"
   ],
   "id": "93be62e0c066397b"
  },
  {
   "metadata": {},
   "cell_type": "code",
   "outputs": [],
   "execution_count": null,
   "source": [
    "import numpy as np\n",
    "from read_data import treat_data\n",
    "import matplotlib.pyplot as plt\n",
    "import fnn"
   ],
   "id": "2ef927759cf201d3"
  },
  {
   "metadata": {},
   "cell_type": "code",
   "outputs": [],
   "execution_count": null,
   "source": [
    "# Load data\n",
    "ols_data = np.loadtxt('data/output.csv', delimiter=',')  # load full reconstructed data\n",
    "Y, X = ols_data[:, 0], ols_data[:, 1:]\n",
    "Y, X = treat_data((Y, X))"
   ],
   "id": "1f57b9a9b3b08489"
  },
  {
   "metadata": {},
   "cell_type": "markdown",
   "source": "Train feed-forward neural network model with a backpropagation algorithm and an Adam optimizer.",
   "id": "43af5f2c327830a3"
  },
  {
   "metadata": {},
   "cell_type": "code",
   "outputs": [],
   "execution_count": null,
   "source": [
    "predictions, losses,  test_data = fnn.train(X, Y, 10000, 0.01, 15)\n",
    "\n",
    "plt.figure(figsize=(12, 3))\n",
    "plt.plot(Y, label='True')\n",
    "plt.plot(predictions, label='Predicted')\n",
    "plt.legend()\n",
    "plt.show()\n",
    "\n",
    "plt.semilogy(losses)\n",
    "plt.show()\n",
    "\n",
    "fig = plt.figure()\n",
    "ax = fig.add_subplot(111, projection='3d')\n",
    "ax.plot(test_data[:, 0], test_data[:, 1], predictions.detach().numpy().ravel(), c='r', lw=1.3, label='FNN')\n",
    "ax.plot(test_data[:, 0], test_data[:, 1], Y.ravel(), c='k', lw=1.3, label='Measured', alpha=0.5)\n",
    "ax.set_xlabel(r'$\\alpha$ [rad]')\n",
    "ax.set_ylabel(r'$\\beta$ [rad]')\n",
    "ax.set_zlabel(r'$C_m$ [-]')\n",
    "ax.set_zlim(-0.2, 0)\n",
    "plt.legend()\n",
    "plt.tight_layout()\n",
    "plt.savefig('plots/fnn.png', dpi=300)\n",
    "plt.show()"
   ],
   "id": "b2a165799f7d731"
  },
  {
   "metadata": {},
   "cell_type": "markdown",
   "source": "Train feed-forward neural network model with a Levenberg-Marquardt algorithm.",
   "id": "c35126c5a99d1e8e"
  },
  {
   "metadata": {},
   "cell_type": "code",
   "outputs": [],
   "execution_count": null,
   "source": [
    "predictions, losses,  test_data = fnn.train_lm(X, Y, 10000, 0.01, 15)\n",
    "\n",
    "plt.figure(figsize=(12, 3))\n",
    "plt.plot(Y, label='True')\n",
    "plt.plot(predictions, label='Predicted')\n",
    "plt.legend()\n",
    "plt.show()\n",
    "\n",
    "plt.semilogy(losses)\n",
    "plt.show()\n",
    "\n",
    "fig = plt.figure()\n",
    "ax = fig.add_subplot(111, projection='3d')\n",
    "ax.plot(test_data[:, 0], test_data[:, 1], predictions.detach().numpy().ravel(), c='r', lw=1.3, label='FNN')\n",
    "ax.plot(test_data[:, 0], test_data[:, 1], Y.ravel(), c='k', lw=1.3, label='Measured', alpha=0.5)\n",
    "ax.set_xlabel(r'$\\alpha$ [rad]')\n",
    "ax.set_ylabel(r'$\\beta$ [rad]')\n",
    "ax.set_zlabel(r'$C_m$ [-]')\n",
    "ax.set_zlim(-0.2, 0)\n",
    "plt.legend()\n",
    "plt.tight_layout()\n",
    "plt.savefig('plots/fnn.png', dpi=300)\n",
    "plt.show()"
   ],
   "id": "de7f3b1ebd162e3c"
  },
  {
   "metadata": {},
   "cell_type": "markdown",
   "source": "Show effect of learning rate on convergence.",
   "id": "69844d4fbe6b1d72"
  },
  {
   "metadata": {},
   "cell_type": "code",
   "outputs": [],
   "execution_count": null,
   "source": [
    "fnn.lr_effect_on_convergence(X, Y, type='backprop')\n",
    "fnn.lr_effect_on_convergence(X, Y, type='lm')"
   ],
   "id": "6563290d46b3de8e"
  },
  {
   "metadata": {},
   "cell_type": "markdown",
   "source": "Show effect of number of neurons on optimization",
   "id": "584a6a15772c272b"
  },
  {
   "metadata": {},
   "cell_type": "code",
   "outputs": [],
   "execution_count": null,
   "source": [
    "fnn.neuron_effect(X, Y, type='backprop')\n",
    "fnn.neuron_effect(X, Y, type='lm')"
   ],
   "id": "947930992fa00405"
  }
 ],
 "metadata": {
  "kernelspec": {
   "display_name": "Python 3",
   "language": "python",
   "name": "python3"
  },
  "language_info": {
   "codemirror_mode": {
    "name": "ipython",
    "version": 2
   },
   "file_extension": ".py",
   "mimetype": "text/x-python",
   "name": "python",
   "nbconvert_exporter": "python",
   "pygments_lexer": "ipython2",
   "version": "2.7.6"
  }
 },
 "nbformat": 4,
 "nbformat_minor": 5
}
